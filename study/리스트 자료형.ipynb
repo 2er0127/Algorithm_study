{
 "cells": [
  {
   "cell_type": "code",
   "execution_count": 2,
   "metadata": {},
   "outputs": [
    {
     "name": "stdout",
     "output_type": "stream",
     "text": [
      "[1, 2, 3, 4, 5, 6, 7, 8, 9]\n",
      "4\n",
      "[0, 0, 0, 0, 0, 0, 0, 0, 0, 0]\n"
     ]
    }
   ],
   "source": [
    "#직접 데이터를 넣어 초기화\n",
    "a=[1,2,3,4,5,6,7,8,9]\n",
    "print(a)\n",
    "\n",
    "#네 번째 원소 출력\n",
    "print(a[3])\n",
    "\n",
    "#크기가 n이고, 모든 값이 0인 1차원 리스트 초기화\n",
    "n=10\n",
    "a=[0]*n\n",
    "print(a)"
   ]
  },
  {
   "cell_type": "code",
   "execution_count": 5,
   "metadata": {},
   "outputs": [
    {
     "name": "stdout",
     "output_type": "stream",
     "text": [
      "9\n",
      "7\n",
      "[1, 2, 3, 4, 10, 6, 7, 8, 9]\n"
     ]
    }
   ],
   "source": [
    "a=[1,2,3,4,5,6,7,8,9]\n",
    "\n",
    "#뒤에서 첫번째 원소 출력\n",
    "print(a[-1])\n",
    "#뒤에서 세번째 원소 출력\n",
    "print(a[-3])\n",
    "#네 번째 원소 값 바꾸기\n",
    "a[4]=10\n",
    "print(a)"
   ]
  },
  {
   "cell_type": "markdown",
   "metadata": {},
   "source": [
    "## -----------------\n",
    "## 리스트에서 연속적인 위치를 갖는 원소들을 가져와야 할 때는 슬라이싱(Slicing)을 이용한다.\n",
    "### 대괄호 안에 콜론(:)을 넣어서 시작 인덱스와 끝 인덱스를 설정.\n",
    "### 끝 인덱스는 실제 인덱스보다 1을 더 크게 설정."
   ]
  },
  {
   "cell_type": "code",
   "execution_count": 6,
   "metadata": {},
   "outputs": [
    {
     "name": "stdout",
     "output_type": "stream",
     "text": [
      "[2, 3, 4]\n"
     ]
    }
   ],
   "source": [
    "#두 번째 원소부터 네 번째 원소까지\n",
    "print(a[1 : 4])"
   ]
  },
  {
   "cell_type": "markdown",
   "metadata": {},
   "source": [
    "## -------------------\n",
    "## 리스트 컴프리헨션\n",
    "### 리스트를 초기화하는 방법 중 하나\n",
    "### 대괄호 안에 조건문과 반복문을 적용하여 리스트를 초기화."
   ]
  },
  {
   "cell_type": "code",
   "execution_count": 8,
   "metadata": {},
   "outputs": [
    {
     "name": "stdout",
     "output_type": "stream",
     "text": [
      "[0, 1, 2, 3, 4, 5, 6, 7, 8, 9]\n",
      "[1, 3, 5, 7, 9]\n",
      "[1, 4, 9, 16, 25, 36, 49, 64, 81]\n"
     ]
    }
   ],
   "source": [
    "#0부터 9까지의 수를 포함하는 리스트 (조건문과 반복문 적용)\n",
    "array=[i for i in range(10)]\n",
    "print(array)\n",
    "\n",
    "#그 중 홀수만 포함하는 리스트\n",
    "array=[i for i in range(10) if i%2==1]\n",
    "print(array)\n",
    "\n",
    "# 1부터 9까지의 수들의 제곱 값을 포함하는 리스트\n",
    "array=[i * i for i in range(1, 10)]\n",
    "print(array)"
   ]
  },
  {
   "cell_type": "markdown",
   "metadata": {},
   "source": [
    "### 2차원 리스트를 초기화할 때 효과적으로 사용될 수 있음.\n",
    "#### array=[[0] * m for _ in range(n)]"
   ]
  },
  {
   "cell_type": "code",
   "execution_count": 9,
   "metadata": {},
   "outputs": [
    {
     "name": "stdout",
     "output_type": "stream",
     "text": [
      "[[0, 0, 0], [0, 0, 0], [0, 0, 0], [0, 0, 0]]\n"
     ]
    }
   ],
   "source": [
    "#n*m 크기의 2차원 리스트 초기화\n",
    "n=4\n",
    "m=3\n",
    "array=[[0] * m for _ in range(n)]\n",
    "print(array)"
   ]
  },
  {
   "cell_type": "markdown",
   "metadata": {},
   "source": [
    "## 파이썬에서는 반복을 수행하되 반복을 위한 변수의 값을 무시하고자 할 때 언더바(_)를 자주 사용."
   ]
  },
  {
   "cell_type": "code",
   "execution_count": 10,
   "metadata": {},
   "outputs": [
    {
     "name": "stdout",
     "output_type": "stream",
     "text": [
      "Hello World\n",
      "Hello World\n",
      "Hello World\n",
      "Hello World\n",
      "Hello World\n"
     ]
    }
   ],
   "source": [
    "for _ in range(5):\n",
    "    print(\"Hello World\")"
   ]
  },
  {
   "cell_type": "markdown",
   "metadata": {},
   "source": [
    "## 리스트 관련 기타 메서드\n",
    "### .append() : 리스트에 원소를 하나 삽입할 때 사용 O(1)\n",
    "### .sort() : 오름차순 정렬 O(n log n)\n",
    "### .reverse=True : 내림차순 정렬 O(n log n)\n",
    "### .reverse() : 리스트의 원소의 순서를 모두 뒤집어 놓음. O(n)\n",
    "### insert() : 특정한 인덱스 위치에 원소를 삽입할 때 사용 O(n)\n",
    "### .count() : 리스트에서 특정한 값을 가지는 데이터의 개수를 셀 때 사용 O(n)\n",
    "### .remove() : 특정한 값을 갖는 원소를 제거하는데, 값을 가진 원소가 여러 개면 하나만 제거 O(n)"
   ]
  },
  {
   "cell_type": "code",
   "execution_count": 2,
   "metadata": {},
   "outputs": [
    {
     "name": "stdout",
     "output_type": "stream",
     "text": [
      "기본 리스트:  [1, 4, 3]\n",
      "삽입:  [1, 4, 3, 2]\n",
      "오름차순 정렬:  [1, 2, 3, 4]\n",
      "내림차순 정렬:  [4, 3, 2, 1]\n"
     ]
    }
   ],
   "source": [
    "a=[1,4,3]\n",
    "print(\"기본 리스트: \", a)\n",
    "\n",
    "#리스트에 원소 삽입\n",
    "a.append(2)\n",
    "print(\"삽입: \", a)\n",
    "\n",
    "#오름차순 정렬\n",
    "a.sort()\n",
    "print(\"오름차순 정렬: \", a)\n",
    "\n",
    "#내림차순 정렬\n",
    "a.sort(reverse=True)\n",
    "print(\"내림차순 정렬: \", a)"
   ]
  },
  {
   "cell_type": "code",
   "execution_count": 3,
   "metadata": {},
   "outputs": [
    {
     "name": "stdout",
     "output_type": "stream",
     "text": [
      "원소 뒤집기:  [1, 2, 3, 4]\n",
      "인덱스 2에 3 추가:  [1, 2, 3, 3, 4]\n",
      "값이 3인 데이터 개수:  2\n",
      "값이 1인 데이터 삭제:  [2, 3, 3, 4]\n"
     ]
    }
   ],
   "source": [
    "a=[4,3,2,1]\n",
    "\n",
    "#리스트 원소 뒤집기\n",
    "a.reverse()\n",
    "print(\"원소 뒤집기: \", a)\n",
    "\n",
    "#특정 인덱스에 데이터 추가\n",
    "a.insert(2, 3)\n",
    "print(\"인덱스 2에 3 추가: \", a)\n",
    "\n",
    "#특정 값인 데이터 개수 세기\n",
    "print(\"값이 3인 데이터 개수: \", a.count(3))\n",
    "\n",
    "#특정 값 데이터 삭제\n",
    "a.remove(1)\n",
    "print(\"값이 1인 데이터 삭제: \", a)"
   ]
  },
  {
   "cell_type": "markdown",
   "metadata": {},
   "source": [
    "## 리스트에서 특정 값을 가지는 원소를 모두 제거하기"
   ]
  },
  {
   "cell_type": "code",
   "execution_count": 4,
   "metadata": {},
   "outputs": [
    {
     "name": "stdout",
     "output_type": "stream",
     "text": [
      "[1, 2, 4]\n"
     ]
    }
   ],
   "source": [
    "a=[1,2,3,4,5,5,5]\n",
    "remove_set= {3, 5} #집합 자료형\n",
    "\n",
    "#remove_list에 포함되지 않은 값만을 저장\n",
    "result=[i for i in a if i not in remove_set]\n",
    "print(result)"
   ]
  },
  {
   "cell_type": "code",
   "execution_count": null,
   "metadata": {},
   "outputs": [],
   "source": []
  }
 ],
 "metadata": {
  "kernelspec": {
   "display_name": "Python 3",
   "language": "python",
   "name": "python3"
  },
  "language_info": {
   "codemirror_mode": {
    "name": "ipython",
    "version": 3
   },
   "file_extension": ".py",
   "mimetype": "text/x-python",
   "name": "python",
   "nbconvert_exporter": "python",
   "pygments_lexer": "ipython3",
   "version": "3.8.5"
  }
 },
 "nbformat": 4,
 "nbformat_minor": 4
}

{
 "cells": [
  {
   "cell_type": "markdown",
   "metadata": {},
   "source": [
    "## 기본 입출력\n",
    "### 모든 프로그램은 적절한 (약속된) 입출력 양식을 가지고 있음.\n",
    "### 프로그램 동작의 첫 번째 단계는 데이터를 입력받거나 생성하는 것."
   ]
  },
  {
   "cell_type": "markdown",
   "metadata": {},
   "source": [
    "## -------------\n",
    "## 자주 사용되는 표준 입력 방법\n",
    "### input() 함수는 한 줄의 문자열을 입력 받는 함수.\n",
    "### map() 함수는 리스트의 모든 원소에 각각 특정한 함수를 적용할 때 사용.\n",
    "### 예) 공백을 기준으로 구분된 데이터를 입력받을 때 : list(map(int, input().split()))\n",
    "### 예) 공백을 기준으로 구분된 데이터의 개수가 많지 않다면 : a, b, c = map(int, input().split())"
   ]
  },
  {
   "cell_type": "code",
   "execution_count": 3,
   "metadata": {},
   "outputs": [
    {
     "name": "stdout",
     "output_type": "stream",
     "text": [
      "5\n",
      "1 2 3 4 5\n",
      "[5, 4, 3, 2, 1]\n"
     ]
    }
   ],
   "source": [
    "#데이터의 개수 입력\n",
    "n = int(input())\n",
    "\n",
    "#각 데이터를 공백을 기준으로 구분하여 입력\n",
    "data = list(map(int, input().split()))\n",
    "\n",
    "data.sort(reverse=True)\n",
    "print(data)"
   ]
  },
  {
   "cell_type": "code",
   "execution_count": 4,
   "metadata": {},
   "outputs": [
    {
     "name": "stdout",
     "output_type": "stream",
     "text": [
      "1 2 3\n",
      "1 2 3\n"
     ]
    }
   ],
   "source": [
    "#a, b, c를 공백을 기준으로 구분하여 입력\n",
    "a, b, c = map(int, input().split())\n",
    "\n",
    "print(a, b, c)"
   ]
  },
  {
   "cell_type": "markdown",
   "metadata": {},
   "source": [
    "## 빠르게 입력 받기\n",
    "### 사용자로부터 입력을 최대한 빠르게 받아야 하는 경우가 있음.\n",
    "### sys 라이브러리에 정의되어 있는 sys.stdin.readline() 메서드를 이용. (단, 입력 후 엔터(Enter)가 줄 바꿈 기호로 입력되므로 rstrip() 메서드를 함께 사용하기)"
   ]
  },
  {
   "cell_type": "code",
   "execution_count": 7,
   "metadata": {},
   "outputs": [
    {
     "name": "stdout",
     "output_type": "stream",
     "text": [
      "\n"
     ]
    }
   ],
   "source": [
    "import sys\n",
    "\n",
    "#문자열 입력 받기\n",
    "data = sys.stdin.readline().rstrip()\n",
    "print(data)"
   ]
  },
  {
   "cell_type": "markdown",
   "metadata": {},
   "source": [
    "## 자주 사용되는 표준 출력 방법\n",
    "### 파이썬에서 기본 출력은 print() 함수를 이용. (각 변수를 콤마(,)를 이용해 띄어쓰기로 구분하여 출력할 수 있음)\n",
    "### print()는 기본적으로 출력 이후에 줄 바꿈을 수행함. (줄 바꿈을 원치 않는 경우 'end' 속성 이용)"
   ]
  },
  {
   "cell_type": "code",
   "execution_count": 8,
   "metadata": {},
   "outputs": [
    {
     "name": "stdout",
     "output_type": "stream",
     "text": [
      "1 2\n",
      "7 8 정답은 7입니다.\n"
     ]
    }
   ],
   "source": [
    "#출력할 변수들\n",
    "a = 1\n",
    "b = 2\n",
    "print(a, b)\n",
    "print(7, end=\" \")\n",
    "print(8, end=\" \")\n",
    "\n",
    "#출력할 변수\n",
    "answer = 7\n",
    "print(\"정답은 \" + str(answer) + \"입니다.\")"
   ]
  },
  {
   "cell_type": "markdown",
   "metadata": {},
   "source": [
    "## f-string 예제\n",
    "### 문자열 앞에 접두사 'f'를 붙여 사용.\n",
    "### 중괄호 안에 변수명을 기입하여 간단히 문자열과 정수를 함께 넣을 수 있음."
   ]
  },
  {
   "cell_type": "code",
   "execution_count": 9,
   "metadata": {},
   "outputs": [
    {
     "name": "stdout",
     "output_type": "stream",
     "text": [
      "정답은 7입니다.\n"
     ]
    }
   ],
   "source": [
    "#간단하게 사용 가능\n",
    "answer = 7\n",
    "print(f\"정답은 {answer}입니다.\")"
   ]
  },
  {
   "cell_type": "code",
   "execution_count": null,
   "metadata": {},
   "outputs": [],
   "source": []
  }
 ],
 "metadata": {
  "kernelspec": {
   "display_name": "Python 3",
   "language": "python",
   "name": "python3"
  },
  "language_info": {
   "codemirror_mode": {
    "name": "ipython",
    "version": 3
   },
   "file_extension": ".py",
   "mimetype": "text/x-python",
   "name": "python",
   "nbconvert_exporter": "python",
   "pygments_lexer": "ipython3",
   "version": "3.8.5"
  }
 },
 "nbformat": 4,
 "nbformat_minor": 4
}

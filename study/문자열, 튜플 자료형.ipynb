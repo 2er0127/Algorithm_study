{
 "cells": [
  {
   "cell_type": "markdown",
   "metadata": {},
   "source": [
    "## 문자열 자료형\n",
    "### 문자열 변수를 초기화할 때는 큰 따옴표(\")나 작은 따옴표(')를 이용\n",
    "### 백슬래시(\\)를 이용해 따옴표를 표현할 수 있음"
   ]
  },
  {
   "cell_type": "code",
   "execution_count": 3,
   "metadata": {},
   "outputs": [
    {
     "name": "stdout",
     "output_type": "stream",
     "text": [
      "Hello World\n",
      "\"hi\"\n"
     ]
    }
   ],
   "source": [
    "data = 'Hello World'\n",
    "print(data)\n",
    "\n",
    "data = \"\\\"hi\\\"\"\n",
    "print(data)"
   ]
  },
  {
   "cell_type": "markdown",
   "metadata": {},
   "source": [
    "## 문자열 연산\n",
    "### 덧셈(+)을 이용하면 문자열이 더해져서 연결됨\n",
    "### 특정한 양의 정수와 곱하는 경우, 문자열이 그 값만큼 여러 번 더해진다.\n",
    "### 다만, 문자열은 특정 인덱스를 변경할 수 없다."
   ]
  },
  {
   "cell_type": "code",
   "execution_count": 4,
   "metadata": {},
   "outputs": [
    {
     "name": "stdout",
     "output_type": "stream",
     "text": [
      "hello world\n",
      "StringStringString\n",
      "CD\n"
     ]
    }
   ],
   "source": [
    "a = \"hello\"\n",
    "b = \"world\"\n",
    "print(a + \" \" + b)\n",
    "\n",
    "a = \"String\"\n",
    "print(a * 3)\n",
    "\n",
    "a = \"ABCDEF\"\n",
    "print(a[2 : 4])"
   ]
  },
  {
   "cell_type": "markdown",
   "metadata": {},
   "source": [
    "## 튜플 자료형\n",
    "### 튜플은 한 번 선언된 값을 변경할 수 없다.\n",
    "### 리스트는 대괄호[], 튜플은 소괄호()를 이용\n",
    "### 튜플은 리스트에 비해 상대적으로 공간 효율적"
   ]
  },
  {
   "cell_type": "code",
   "execution_count": 5,
   "metadata": {},
   "outputs": [
    {
     "name": "stdout",
     "output_type": "stream",
     "text": [
      "4\n",
      "(2, 3, 4)\n"
     ]
    }
   ],
   "source": [
    "a = (1,2,3,4,5,6,7,8,9)\n",
    "\n",
    "#네 번째 원소만 출력\n",
    "print(a[3])\n",
    "\n",
    "#두 번째 원소부터 네 번째 원소까지\n",
    "print(a[1 : 4])"
   ]
  },
  {
   "cell_type": "markdown",
   "metadata": {},
   "source": [
    "## 튜플을 사용하면 좋은 경우\n",
    "### 서로 다른 성질의 데이터를 묶어서 관리해야 할 때 (최단 경로 알고리즘에서 (비용, 노드 번호)의 형태로 튜플 자료형을 자주 사용)\n",
    "### 데이터의 나열을 해싱(Hashing)의 키 값으로 사용해야 할 때 (튜플은 변경이 불가능하므로 키 값으로 사용 가능, 리스트는 안됨.)\n",
    "### 리스트보다 메모리를 효율적으로 사용해야 할 때"
   ]
  },
  {
   "cell_type": "code",
   "execution_count": null,
   "metadata": {},
   "outputs": [],
   "source": []
  }
 ],
 "metadata": {
  "kernelspec": {
   "display_name": "Python 3",
   "language": "python",
   "name": "python3"
  },
  "language_info": {
   "codemirror_mode": {
    "name": "ipython",
    "version": 3
   },
   "file_extension": ".py",
   "mimetype": "text/x-python",
   "name": "python",
   "nbconvert_exporter": "python",
   "pygments_lexer": "ipython3",
   "version": "3.8.5"
  }
 },
 "nbformat": 4,
 "nbformat_minor": 4
}

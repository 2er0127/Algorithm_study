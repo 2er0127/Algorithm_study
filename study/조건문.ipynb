{
 "cells": [
  {
   "cell_type": "markdown",
   "metadata": {},
   "source": [
    "## 조건문\n",
    "### 조건문은 프로그램의 흐름을 제어하는 문법\n",
    "### 조건문을 이용해 조건에 따라서 프로그램의 로직을 설정할 수 있음"
   ]
  },
  {
   "cell_type": "code",
   "execution_count": 2,
   "metadata": {},
   "outputs": [
    {
     "name": "stdout",
     "output_type": "stream",
     "text": [
      "x >= 10\n",
      "x >= 0\n"
     ]
    }
   ],
   "source": [
    "x = 15\n",
    "\n",
    "if x >= 10:\n",
    "    print(\"x >= 10\")\n",
    "\n",
    "if x >= 0:\n",
    "    print(\"x >= 0\")\n",
    "\n",
    "if x >= 30:\n",
    "    print(\"x >= 30\")"
   ]
  },
  {
   "cell_type": "markdown",
   "metadata": {},
   "source": [
    "## 들여쓰기\n",
    "### 파이썬에서는 코드의 블록(Block, 한 단위의 코드 묶음)을 들여쓰기(Indent)로 지정\n",
    "### 탭이나 공백 문자(space)를 여러 번 사용하는 두 가지 방법이 있음\n",
    "### 파이썬 스타일 가이드라인에서는 4개의 공백 문자를 사용하는 것을 표준으로 설정\n",
    "## ----------\n",
    "## 조건문의 기본 형태\n",
    "### 조건문의 기본적인 형태는 if ~ elif ~ else\n",
    "### if 조건문 1:\n",
    "###     True일 때 실행되는 코드\n",
    "### elif 조건문 2:\n",
    "###     True일 때 실행되는 코드\n",
    "### else:\n",
    "###     위 조건이 모두 아닐 때"
   ]
  },
  {
   "cell_type": "code",
   "execution_count": 4,
   "metadata": {},
   "outputs": [
    {
     "name": "stdout",
     "output_type": "stream",
     "text": [
      "0 > a >= =10\n"
     ]
    }
   ],
   "source": [
    "a = -5\n",
    "\n",
    "if a >= 0:\n",
    "    print(\"a >= 0\")\n",
    "    \n",
    "elif a >= -10:\n",
    "    print(\"0 > a >= =10\")\n",
    "\n",
    "else:\n",
    "    print(\"-10 > a\")"
   ]
  },
  {
   "cell_type": "code",
   "execution_count": 5,
   "metadata": {},
   "outputs": [
    {
     "name": "stdout",
     "output_type": "stream",
     "text": [
      "B\n"
     ]
    }
   ],
   "source": [
    "#성적 구간에 따른 학점 출력 예제\n",
    "score = 85\n",
    "\n",
    "if score >= 90:\n",
    "    print(\"A\")\n",
    "    \n",
    "elif score >= 80:\n",
    "    print(\"B\")\n",
    "\n",
    "elif score >= 70:\n",
    "    print(\"C\")\n",
    "\n",
    "else:\n",
    "    print(\"F\")"
   ]
  },
  {
   "cell_type": "markdown",
   "metadata": {},
   "source": [
    "## 비교 연산자\n",
    "### 비교 연산자는 특정한 두 값을 비교할 때 이용\n",
    "### x == y : x와 y가 서로 같을 때 True\n",
    "### x != y : x와 y가 서로 다를 때 True\n",
    "### x > y, x < y : x가 y보다 크거나 작을 때 True\n",
    "### x >= y, x <= y : x가 y보다 크거나 같을 때/ 작거나 같을 때 True"
   ]
  },
  {
   "cell_type": "markdown",
   "metadata": {},
   "source": [
    "## 논리 연산자\n",
    "### 논리 값(True/False) 사이의 연산을 수행할 때 사용\n",
    "### x and y : x와 y 모두 True일 때 True\n",
    "### x or y : x와 y 중에 하나만 True여도 True\n",
    "### not x : x가 False일 때 True"
   ]
  },
  {
   "cell_type": "code",
   "execution_count": 7,
   "metadata": {},
   "outputs": [
    {
     "name": "stdout",
     "output_type": "stream",
     "text": [
      "Yes\n"
     ]
    }
   ],
   "source": [
    "if True or False:\n",
    "    print(\"Yes\")\n",
    "    \n",
    "if True and False:\n",
    "    print(\"Yes\")"
   ]
  },
  {
   "cell_type": "code",
   "execution_count": 8,
   "metadata": {},
   "outputs": [
    {
     "name": "stdout",
     "output_type": "stream",
     "text": [
      "Yes\n"
     ]
    }
   ],
   "source": [
    "a = 15\n",
    "\n",
    "if a <= 20 and a >= 0:\n",
    "    print(\"Yes\")"
   ]
  },
  {
   "cell_type": "markdown",
   "metadata": {},
   "source": [
    "## 파이썬의 기타 연산자\n",
    "### 다수의 데이터를 담는 자료형을 위해 in 연산자와 not in 연산자가 제공\n",
    "#### 리스트, 튜플, 문자열, 딕셔너리 모두에서 사용이 가능\n",
    "### x in 리스트 : 리스트 안에 x가 들어가 있을 때 True\n",
    "### x not in 문자열 : 문자열 안에 x가 들어가 있지 않을 때 True"
   ]
  },
  {
   "cell_type": "markdown",
   "metadata": {},
   "source": [
    "## pass 키워드\n",
    "### 아무것도 처리하고 싶지 않을 때 pass 키워드를 사용\n",
    "### 예시) 디버깅 과정에서 일단 조건문의 형태만 만들어 놓고 조건문을 처리하는 부분은 비워놓고 싶은 경우"
   ]
  },
  {
   "cell_type": "code",
   "execution_count": 9,
   "metadata": {},
   "outputs": [
    {
     "name": "stdout",
     "output_type": "stream",
     "text": [
      "프로그램 종료\n"
     ]
    }
   ],
   "source": [
    "score = 85\n",
    "\n",
    "if score >= 80:\n",
    "    pass \n",
    "else:\n",
    "    print('성적이 80점 미만입니다.')\n",
    "    \n",
    "print('프로그램 종료')"
   ]
  },
  {
   "cell_type": "markdown",
   "metadata": {},
   "source": [
    "## 조건문의 간소화\n",
    "### 조건문에서 실행될 소스코드가 한 줄인 경우, 굳이 줄 바꿈을 하지 않고도 간략하게 표현 가능"
   ]
  },
  {
   "cell_type": "code",
   "execution_count": 10,
   "metadata": {},
   "outputs": [],
   "source": [
    "score = 85\n",
    "\n",
    "if score >= 80: result = \"Success\"\n",
    "else: result = \"Fail\""
   ]
  },
  {
   "cell_type": "markdown",
   "metadata": {},
   "source": [
    "### 조건부 표현식은 if ~ else문을 한 줄에 작성하기 가능"
   ]
  },
  {
   "cell_type": "code",
   "execution_count": 11,
   "metadata": {},
   "outputs": [
    {
     "name": "stdout",
     "output_type": "stream",
     "text": [
      "Success\n"
     ]
    }
   ],
   "source": [
    "score = 85\n",
    "result = \"Success\" if score >= 80 else \"Fail\"\n",
    "\n",
    "print(result)"
   ]
  },
  {
   "cell_type": "code",
   "execution_count": null,
   "metadata": {},
   "outputs": [],
   "source": []
  }
 ],
 "metadata": {
  "kernelspec": {
   "display_name": "Python 3",
   "language": "python",
   "name": "python3"
  },
  "language_info": {
   "codemirror_mode": {
    "name": "ipython",
    "version": 3
   },
   "file_extension": ".py",
   "mimetype": "text/x-python",
   "name": "python",
   "nbconvert_exporter": "python",
   "pygments_lexer": "ipython3",
   "version": "3.8.5"
  }
 },
 "nbformat": 4,
 "nbformat_minor": 4
}
